{
  "nbformat": 4,
  "nbformat_minor": 0,
  "metadata": {
    "celltoolbar": "Slideshow",
    "kernelspec": {
      "display_name": "Python 3",
      "language": "python",
      "name": "python3"
    },
    "language_info": {
      "codemirror_mode": {
        "name": "ipython",
        "version": 3
      },
      "file_extension": ".py",
      "mimetype": "text/x-python",
      "name": "python",
      "nbconvert_exporter": "python",
      "pygments_lexer": "ipython3",
      "version": "3.8.2"
    },
    "colab": {
      "name": "Intro-to-pandas",
      "provenance": []
    }
  },
  "cells": [
    {
      "cell_type": "markdown",
      "metadata": {
        "id": "Z5AT3A2MjVuR",
        "colab_type": "text"
      },
      "source": [
        "# Introduction to Pandas (reddit)\n"
      ]
    },
    {
      "cell_type": "markdown",
      "metadata": {
        "id": "Q_M4y385jVuU",
        "colab_type": "text"
      },
      "source": [
        "Full dataset at:\n",
        "\n",
        "https://www.kaggle.com/colemaclean/subreddit-interactions\n",
        "\n",
        "### Note about the dataset: each line represents ONE COMMENT"
      ]
    },
    {
      "cell_type": "markdown",
      "metadata": {
        "id": "rHJjlOqqjVuV",
        "colab_type": "text"
      },
      "source": [
        "## Why Pandas\n",
        "\n",
        "1. Very familiar interface / data model (Table / Excel)\n",
        "2. Query data very interactively (once the data is loaded in your notebook, instant answer)\n",
        "3. Complete freedom in creating custom code\n",
        "\n",
        "GOOD TO KNOW\n",
        "- Pandas is a massive library. Even after this class, there'll be a lot of things you won't know from pandas. Use the doc !\n"
      ]
    },
    {
      "cell_type": "code",
      "metadata": {
        "id": "ETlhEZhejVuW",
        "colab_type": "code",
        "colab": {},
        "outputId": "63689f24-9d20-4cff-c321-dcf848ac5051"
      },
      "source": [
        "import pandas as pd\n",
        "import numpy as np\n",
        "import matplotlib.pyplot as plt\n",
        "import datetime as dt\n",
        "%matplotlib inline\n",
        "\n",
        "df = pd.read_csv('https://raw.githubusercontent.com/niparis/ga-intermediate-python-ds/master/datasets/reddit_100k.csv')"
      ],
      "execution_count": null,
      "outputs": [
        {
          "output_type": "stream",
          "text": [
            "/Users/nicolasparis/.pyenv/versions/3.8.2/envs/jupyter/lib/python3.8/site-packages/pandas/compat/__init__.py:117: UserWarning: Could not import the lzma module. Your installed Python is incomplete. Attempting to use lzma compression will result in a RuntimeError.\n",
            "  warnings.warn(msg)\n"
          ],
          "name": "stderr"
        }
      ]
    },
    {
      "cell_type": "markdown",
      "metadata": {
        "id": "__3Nd8fqjVuk",
        "colab_type": "text"
      },
      "source": [
        "### Having a look at the data\n",
        "\n",
        "head is a `method` of DataFrame objects. It is called by using the brackets.\n",
        "\n",
        "head is equivalent to the SQL expression \"LIMIT 5\""
      ]
    },
    {
      "cell_type": "code",
      "metadata": {
        "id": "hy-0kz8gjVul",
        "colab_type": "code",
        "colab": {},
        "outputId": "84e024b1-aa66-4342-97d2-97c39ac56bfb"
      },
      "source": [
        "df.head()"
      ],
      "execution_count": null,
      "outputs": [
        {
          "output_type": "execute_result",
          "data": {
            "text/html": [
              "<div>\n",
              "<style scoped>\n",
              "    .dataframe tbody tr th:only-of-type {\n",
              "        vertical-align: middle;\n",
              "    }\n",
              "\n",
              "    .dataframe tbody tr th {\n",
              "        vertical-align: top;\n",
              "    }\n",
              "\n",
              "    .dataframe thead th {\n",
              "        text-align: right;\n",
              "    }\n",
              "</style>\n",
              "<table border=\"1\" class=\"dataframe\">\n",
              "  <thead>\n",
              "    <tr style=\"text-align: right;\">\n",
              "      <th></th>\n",
              "      <th>username</th>\n",
              "      <th>subreddit</th>\n",
              "      <th>utc</th>\n",
              "    </tr>\n",
              "  </thead>\n",
              "  <tbody>\n",
              "    <tr>\n",
              "      <th>0</th>\n",
              "      <td>kabanossi</td>\n",
              "      <td>photoshopbattles</td>\n",
              "      <td>1.482748e+09</td>\n",
              "    </tr>\n",
              "    <tr>\n",
              "      <th>1</th>\n",
              "      <td>kabanossi</td>\n",
              "      <td>GetMotivated</td>\n",
              "      <td>1.482748e+09</td>\n",
              "    </tr>\n",
              "    <tr>\n",
              "      <th>2</th>\n",
              "      <td>kabanossi</td>\n",
              "      <td>vmware</td>\n",
              "      <td>1.482748e+09</td>\n",
              "    </tr>\n",
              "    <tr>\n",
              "      <th>3</th>\n",
              "      <td>kabanossi</td>\n",
              "      <td>carporn</td>\n",
              "      <td>1.482748e+09</td>\n",
              "    </tr>\n",
              "    <tr>\n",
              "      <th>4</th>\n",
              "      <td>kabanossi</td>\n",
              "      <td>DIY</td>\n",
              "      <td>1.482747e+09</td>\n",
              "    </tr>\n",
              "  </tbody>\n",
              "</table>\n",
              "</div>"
            ],
            "text/plain": [
              "    username         subreddit           utc\n",
              "0  kabanossi  photoshopbattles  1.482748e+09\n",
              "1  kabanossi      GetMotivated  1.482748e+09\n",
              "2  kabanossi            vmware  1.482748e+09\n",
              "3  kabanossi           carporn  1.482748e+09\n",
              "4  kabanossi               DIY  1.482747e+09"
            ]
          },
          "metadata": {
            "tags": []
          },
          "execution_count": 3
        }
      ]
    },
    {
      "cell_type": "markdown",
      "metadata": {
        "id": "ozKLGCZUjVu6",
        "colab_type": "text"
      },
      "source": [
        "We can pass a `parameter` to the `method` head. \n",
        "\n",
        "That's how we can control how many lines of the DataFrame `head` will display"
      ]
    },
    {
      "cell_type": "code",
      "metadata": {
        "id": "H9FvjK5LjVu-",
        "colab_type": "code",
        "colab": {},
        "outputId": "17486adf-646e-48d3-e23e-9de8768b7613"
      },
      "source": [
        "# example with the parameter 2\n",
        "df.head(2)"
      ],
      "execution_count": null,
      "outputs": [
        {
          "output_type": "execute_result",
          "data": {
            "text/html": [
              "<div>\n",
              "<style scoped>\n",
              "    .dataframe tbody tr th:only-of-type {\n",
              "        vertical-align: middle;\n",
              "    }\n",
              "\n",
              "    .dataframe tbody tr th {\n",
              "        vertical-align: top;\n",
              "    }\n",
              "\n",
              "    .dataframe thead th {\n",
              "        text-align: right;\n",
              "    }\n",
              "</style>\n",
              "<table border=\"1\" class=\"dataframe\">\n",
              "  <thead>\n",
              "    <tr style=\"text-align: right;\">\n",
              "      <th></th>\n",
              "      <th>username</th>\n",
              "      <th>subreddit</th>\n",
              "      <th>utc</th>\n",
              "    </tr>\n",
              "  </thead>\n",
              "  <tbody>\n",
              "    <tr>\n",
              "      <th>0</th>\n",
              "      <td>kabanossi</td>\n",
              "      <td>photoshopbattles</td>\n",
              "      <td>1.482748e+09</td>\n",
              "    </tr>\n",
              "    <tr>\n",
              "      <th>1</th>\n",
              "      <td>kabanossi</td>\n",
              "      <td>GetMotivated</td>\n",
              "      <td>1.482748e+09</td>\n",
              "    </tr>\n",
              "  </tbody>\n",
              "</table>\n",
              "</div>"
            ],
            "text/plain": [
              "    username         subreddit           utc\n",
              "0  kabanossi  photoshopbattles  1.482748e+09\n",
              "1  kabanossi      GetMotivated  1.482748e+09"
            ]
          },
          "metadata": {
            "tags": []
          },
          "execution_count": 4
        }
      ]
    },
    {
      "cell_type": "markdown",
      "metadata": {
        "id": "0hoPj-vwjVvQ",
        "colab_type": "text"
      },
      "source": [
        "### Let's start we some simple data cleaning\n",
        "\n",
        "The utc timestamp is a EPOCH timestamp in seconds\n",
        "\n",
        "Fortunately pandas has a built-in function to transform it to a more usable *datetime* object: `pd.to_datetime`"
      ]
    },
    {
      "cell_type": "code",
      "metadata": {
        "id": "8lPpHzvijVvR",
        "colab_type": "code",
        "colab": {}
      },
      "source": [
        "# cleaning the utc timestamp: a typical \"data cleaning\" operation\n",
        "# the result from the expression on the right of the = is *assigned* to the left expression\n",
        "# df['utc'] means \"selecting the column utc from the dataframe df\"\n",
        "df['utc'] = pd.to_datetime(df['utc'],unit='s')"
      ],
      "execution_count": null,
      "outputs": []
    },
    {
      "cell_type": "code",
      "metadata": {
        "id": "CLGS4-e0jVvU",
        "colab_type": "code",
        "colab": {},
        "outputId": "421ebc18-e389-42f2-9051-e53decd10850"
      },
      "source": [
        "df.head()"
      ],
      "execution_count": null,
      "outputs": [
        {
          "output_type": "execute_result",
          "data": {
            "text/html": [
              "<div>\n",
              "<style scoped>\n",
              "    .dataframe tbody tr th:only-of-type {\n",
              "        vertical-align: middle;\n",
              "    }\n",
              "\n",
              "    .dataframe tbody tr th {\n",
              "        vertical-align: top;\n",
              "    }\n",
              "\n",
              "    .dataframe thead th {\n",
              "        text-align: right;\n",
              "    }\n",
              "</style>\n",
              "<table border=\"1\" class=\"dataframe\">\n",
              "  <thead>\n",
              "    <tr style=\"text-align: right;\">\n",
              "      <th></th>\n",
              "      <th>username</th>\n",
              "      <th>subreddit</th>\n",
              "      <th>utc</th>\n",
              "    </tr>\n",
              "  </thead>\n",
              "  <tbody>\n",
              "    <tr>\n",
              "      <th>0</th>\n",
              "      <td>kabanossi</td>\n",
              "      <td>photoshopbattles</td>\n",
              "      <td>2016-12-26 10:24:59</td>\n",
              "    </tr>\n",
              "    <tr>\n",
              "      <th>1</th>\n",
              "      <td>kabanossi</td>\n",
              "      <td>GetMotivated</td>\n",
              "      <td>2016-12-26 10:23:14</td>\n",
              "    </tr>\n",
              "    <tr>\n",
              "      <th>2</th>\n",
              "      <td>kabanossi</td>\n",
              "      <td>vmware</td>\n",
              "      <td>2016-12-26 10:21:16</td>\n",
              "    </tr>\n",
              "    <tr>\n",
              "      <th>3</th>\n",
              "      <td>kabanossi</td>\n",
              "      <td>carporn</td>\n",
              "      <td>2016-12-26 10:20:18</td>\n",
              "    </tr>\n",
              "    <tr>\n",
              "      <th>4</th>\n",
              "      <td>kabanossi</td>\n",
              "      <td>DIY</td>\n",
              "      <td>2016-12-26 10:17:59</td>\n",
              "    </tr>\n",
              "  </tbody>\n",
              "</table>\n",
              "</div>"
            ],
            "text/plain": [
              "    username         subreddit                 utc\n",
              "0  kabanossi  photoshopbattles 2016-12-26 10:24:59\n",
              "1  kabanossi      GetMotivated 2016-12-26 10:23:14\n",
              "2  kabanossi            vmware 2016-12-26 10:21:16\n",
              "3  kabanossi           carporn 2016-12-26 10:20:18\n",
              "4  kabanossi               DIY 2016-12-26 10:17:59"
            ]
          },
          "metadata": {
            "tags": []
          },
          "execution_count": 6
        }
      ]
    },
    {
      "cell_type": "markdown",
      "metadata": {
        "id": "9xAJjxlFjVvV",
        "colab_type": "text"
      },
      "source": [
        "### Let's create a new column containing only the date\n",
        "\n",
        "We might need to have access to the date without the time information. \n",
        "\n",
        "It will let us aggregate the reddit data by day, to create for instance a daily timeline.\n",
        "\n",
        "For this, we're going to use the `apply` DataFrame method. This is a very handy function that lets us modify a column in any way we want. To use it, first need to create a function that will be called on each element (or cell) of the column we want to transform.\n",
        "\n",
        "In our case, we want to transform a `datetime` object into a `date` object, so we can write the following function:"
      ]
    },
    {
      "cell_type": "markdown",
      "metadata": {
        "id": "6j-JVUPajVvW",
        "colab_type": "text"
      },
      "source": [
        "## Transformations\n",
        "\n",
        "WHY: To transform some existing column, or create a new column from an existing one\n",
        "\n",
        "HOW: Use the `.apply` function. Here’s the basic syntax:\n",
        "\n",
        "\t   <dataframe>[<column-selection>].apply(<function>)\n",
        "\n",
        "\n",
        "### How it works\n",
        "\n",
        "![image.png](attachment:image.png)"
      ]
    },
    {
      "cell_type": "code",
      "metadata": {
        "id": "Pt3VRTQ5jVvW",
        "colab_type": "code",
        "colab": {}
      },
      "source": [
        "def transform_to_date(elem):\n",
        "    # extract the date from a datetime. \n",
        "    # date is a method of the datetime object, that's why it has to be called with `()`\n",
        "    return elem.date()"
      ],
      "execution_count": null,
      "outputs": []
    },
    {
      "cell_type": "code",
      "metadata": {
        "id": "geUwUZ66jVve",
        "colab_type": "code",
        "colab": {}
      },
      "source": [
        "df['date'] = df['utc'].apply(transform_to_date)"
      ],
      "execution_count": null,
      "outputs": []
    },
    {
      "cell_type": "markdown",
      "metadata": {
        "id": "FkPp0k7qjVvg",
        "colab_type": "text"
      },
      "source": [
        "Then we can apply the `transform_to_date` function to the utc column, and assign the result to a new column called `date`"
      ]
    },
    {
      "cell_type": "code",
      "metadata": {
        "id": "Jm_p8cLjjVvg",
        "colab_type": "code",
        "colab": {},
        "outputId": "da60a85e-70ea-4fbd-c128-c7cba295b00d"
      },
      "source": [
        "df['date'] = df['utc'].apply(transform_to_date)\n",
        "df.head(2)"
      ],
      "execution_count": null,
      "outputs": [
        {
          "output_type": "execute_result",
          "data": {
            "text/html": [
              "<div>\n",
              "<style scoped>\n",
              "    .dataframe tbody tr th:only-of-type {\n",
              "        vertical-align: middle;\n",
              "    }\n",
              "\n",
              "    .dataframe tbody tr th {\n",
              "        vertical-align: top;\n",
              "    }\n",
              "\n",
              "    .dataframe thead th {\n",
              "        text-align: right;\n",
              "    }\n",
              "</style>\n",
              "<table border=\"1\" class=\"dataframe\">\n",
              "  <thead>\n",
              "    <tr style=\"text-align: right;\">\n",
              "      <th></th>\n",
              "      <th>username</th>\n",
              "      <th>subreddit</th>\n",
              "      <th>utc</th>\n",
              "      <th>date</th>\n",
              "    </tr>\n",
              "  </thead>\n",
              "  <tbody>\n",
              "    <tr>\n",
              "      <th>0</th>\n",
              "      <td>kabanossi</td>\n",
              "      <td>photoshopbattles</td>\n",
              "      <td>2016-12-26 10:24:59</td>\n",
              "      <td>2016-12-26</td>\n",
              "    </tr>\n",
              "    <tr>\n",
              "      <th>1</th>\n",
              "      <td>kabanossi</td>\n",
              "      <td>GetMotivated</td>\n",
              "      <td>2016-12-26 10:23:14</td>\n",
              "      <td>2016-12-26</td>\n",
              "    </tr>\n",
              "  </tbody>\n",
              "</table>\n",
              "</div>"
            ],
            "text/plain": [
              "    username         subreddit                 utc        date\n",
              "0  kabanossi  photoshopbattles 2016-12-26 10:24:59  2016-12-26\n",
              "1  kabanossi      GetMotivated 2016-12-26 10:23:14  2016-12-26"
            ]
          },
          "metadata": {
            "tags": []
          },
          "execution_count": 9
        }
      ]
    },
    {
      "cell_type": "markdown",
      "metadata": {
        "id": "eEoT3oxljVvi",
        "colab_type": "text"
      },
      "source": [
        "Another example: month of year.\n",
        "    \n",
        "We create another function, apply it to the same `utc` column, and assign the result to a new column called `month`"
      ]
    },
    {
      "cell_type": "code",
      "metadata": {
        "id": "cY9CcsatjVvi",
        "colab_type": "code",
        "colab": {}
      },
      "source": [
        "def get_month_of_year(elem: dt.datetime):\n",
        "    # month is an `attribute` from the pandas timestamp object (which is why it doesnt have to be called with `()`)\n",
        "    return elem.month\n",
        "\n",
        "df['month'] = df['utc'].apply(get_month_of_year)"
      ],
      "execution_count": null,
      "outputs": []
    },
    {
      "cell_type": "markdown",
      "metadata": {
        "id": "eGxrRc4-jVvs",
        "colab_type": "text"
      },
      "source": [
        "## Filtering\n",
        "\n",
        "WHY: To keep only part of the data, either to :\n",
        "\n",
        "HOW: Use the `.query` function. Here’s the basic syntax:\n",
        "\n",
        "\t   <dataframe>.query(”column operation value”)\n",
        "\n",
        "\n",
        "NOTE: “column operation value” is a STRING.\n",
        "\n",
        "EXAMPLES:\n",
        "A. df.query(“column > 4”)\n",
        "Filters any row where the value of column is greater than 4\n",
        "B. df.query(“column > second-column”)\n",
        "Filters any row where the value of column is greater is greater than the value in second-column\n",
        "\n",
        "NEXT: Once you’re comfortable with .query, learn .loc. \n",
        "\n",
        "Benefits of .loc: \n",
        "A. Can add /change a value in the filtered expression\n",
        "B. complex filtering logic \n",
        "\n",
        "\n",
        "A. Add /change a value in the filtered expression with .loc\n",
        "\n",
        "Example:\n",
        "df.loc[df[”column_to_filter”] == “critera” , “cats”] = “meow”\n",
        "\n",
        "Explanation:\n",
        "\n",
        "For all rows where the value in the column “column_to_filter” is strictly equal to “criteria”, ASSIGN the value “meow” in the column ”cats”\n",
        "\n",
        "Note:\n",
        "If the column “cats” does not exist, it will be created on the fly.\n",
        "Any value not filtered will become “None”\n",
        "\n",
        "\n",
        "\n",
        "B. Can do more complex filtering logic (multi criterias, mixing AND / OR)\n",
        "\n",
        "Example:\n",
        "     df.loc[(df[”column_to_filter”] == “critera”) | (df[”second_criteria”] > 4)]\n",
        "\n",
        "Explanation:\n",
        "Filters any row having either “criteria” as the value in the column “column_to_filter” \n",
        "OR strictly more than 4 as the value in the column “second_criteria”\n",
        "\n",
        "Note: pipe ( | ) is used for logical OR, ampersand ( & ) is used for logical ANDS"
      ]
    },
    {
      "cell_type": "code",
      "metadata": {
        "id": "eKnDbjgCjVvs",
        "colab_type": "code",
        "colab": {},
        "outputId": "c3584acb-69af-48a5-faaa-9ea76832e29d"
      },
      "source": [
        "# select december\n",
        "df.query(\"month == 12\")"
      ],
      "execution_count": null,
      "outputs": [
        {
          "output_type": "execute_result",
          "data": {
            "text/html": [
              "<div>\n",
              "<style scoped>\n",
              "    .dataframe tbody tr th:only-of-type {\n",
              "        vertical-align: middle;\n",
              "    }\n",
              "\n",
              "    .dataframe tbody tr th {\n",
              "        vertical-align: top;\n",
              "    }\n",
              "\n",
              "    .dataframe thead th {\n",
              "        text-align: right;\n",
              "    }\n",
              "</style>\n",
              "<table border=\"1\" class=\"dataframe\">\n",
              "  <thead>\n",
              "    <tr style=\"text-align: right;\">\n",
              "      <th></th>\n",
              "      <th>username</th>\n",
              "      <th>subreddit</th>\n",
              "      <th>utc</th>\n",
              "      <th>date</th>\n",
              "      <th>month</th>\n",
              "    </tr>\n",
              "  </thead>\n",
              "  <tbody>\n",
              "    <tr>\n",
              "      <th>0</th>\n",
              "      <td>kabanossi</td>\n",
              "      <td>photoshopbattles</td>\n",
              "      <td>2016-12-26 10:24:59</td>\n",
              "      <td>2016-12-26</td>\n",
              "      <td>12</td>\n",
              "    </tr>\n",
              "    <tr>\n",
              "      <th>1</th>\n",
              "      <td>kabanossi</td>\n",
              "      <td>GetMotivated</td>\n",
              "      <td>2016-12-26 10:23:14</td>\n",
              "      <td>2016-12-26</td>\n",
              "      <td>12</td>\n",
              "    </tr>\n",
              "    <tr>\n",
              "      <th>2</th>\n",
              "      <td>kabanossi</td>\n",
              "      <td>vmware</td>\n",
              "      <td>2016-12-26 10:21:16</td>\n",
              "      <td>2016-12-26</td>\n",
              "      <td>12</td>\n",
              "    </tr>\n",
              "    <tr>\n",
              "      <th>3</th>\n",
              "      <td>kabanossi</td>\n",
              "      <td>carporn</td>\n",
              "      <td>2016-12-26 10:20:18</td>\n",
              "      <td>2016-12-26</td>\n",
              "      <td>12</td>\n",
              "    </tr>\n",
              "    <tr>\n",
              "      <th>4</th>\n",
              "      <td>kabanossi</td>\n",
              "      <td>DIY</td>\n",
              "      <td>2016-12-26 10:17:59</td>\n",
              "      <td>2016-12-26</td>\n",
              "      <td>12</td>\n",
              "    </tr>\n",
              "    <tr>\n",
              "      <th>...</th>\n",
              "      <td>...</td>\n",
              "      <td>...</td>\n",
              "      <td>...</td>\n",
              "      <td>...</td>\n",
              "      <td>...</td>\n",
              "    </tr>\n",
              "    <tr>\n",
              "      <th>99995</th>\n",
              "      <td>ThundercuntIII</td>\n",
              "      <td>cripplingalcoholism</td>\n",
              "      <td>2016-12-23 14:56:06</td>\n",
              "      <td>2016-12-23</td>\n",
              "      <td>12</td>\n",
              "    </tr>\n",
              "    <tr>\n",
              "      <th>99996</th>\n",
              "      <td>ThundercuntIII</td>\n",
              "      <td>Advice</td>\n",
              "      <td>2016-12-23 14:55:24</td>\n",
              "      <td>2016-12-23</td>\n",
              "      <td>12</td>\n",
              "    </tr>\n",
              "    <tr>\n",
              "      <th>99997</th>\n",
              "      <td>ThundercuntIII</td>\n",
              "      <td>mildlyinteresting</td>\n",
              "      <td>2016-12-23 14:53:56</td>\n",
              "      <td>2016-12-23</td>\n",
              "      <td>12</td>\n",
              "    </tr>\n",
              "    <tr>\n",
              "      <th>99998</th>\n",
              "      <td>ThundercuntIII</td>\n",
              "      <td>cripplingalcoholism</td>\n",
              "      <td>2016-12-23 14:52:19</td>\n",
              "      <td>2016-12-23</td>\n",
              "      <td>12</td>\n",
              "    </tr>\n",
              "    <tr>\n",
              "      <th>99999</th>\n",
              "      <td>ThundercuntIII</td>\n",
              "      <td>meirl</td>\n",
              "      <td>2016-12-23 14:50:53</td>\n",
              "      <td>2016-12-23</td>\n",
              "      <td>12</td>\n",
              "    </tr>\n",
              "  </tbody>\n",
              "</table>\n",
              "<p>28270 rows × 5 columns</p>\n",
              "</div>"
            ],
            "text/plain": [
              "             username            subreddit                 utc        date  \\\n",
              "0           kabanossi     photoshopbattles 2016-12-26 10:24:59  2016-12-26   \n",
              "1           kabanossi         GetMotivated 2016-12-26 10:23:14  2016-12-26   \n",
              "2           kabanossi               vmware 2016-12-26 10:21:16  2016-12-26   \n",
              "3           kabanossi              carporn 2016-12-26 10:20:18  2016-12-26   \n",
              "4           kabanossi                  DIY 2016-12-26 10:17:59  2016-12-26   \n",
              "...               ...                  ...                 ...         ...   \n",
              "99995  ThundercuntIII  cripplingalcoholism 2016-12-23 14:56:06  2016-12-23   \n",
              "99996  ThundercuntIII               Advice 2016-12-23 14:55:24  2016-12-23   \n",
              "99997  ThundercuntIII    mildlyinteresting 2016-12-23 14:53:56  2016-12-23   \n",
              "99998  ThundercuntIII  cripplingalcoholism 2016-12-23 14:52:19  2016-12-23   \n",
              "99999  ThundercuntIII                meirl 2016-12-23 14:50:53  2016-12-23   \n",
              "\n",
              "       month  \n",
              "0         12  \n",
              "1         12  \n",
              "2         12  \n",
              "3         12  \n",
              "4         12  \n",
              "...      ...  \n",
              "99995     12  \n",
              "99996     12  \n",
              "99997     12  \n",
              "99998     12  \n",
              "99999     12  \n",
              "\n",
              "[28270 rows x 5 columns]"
            ]
          },
          "metadata": {
            "tags": []
          },
          "execution_count": 12
        }
      ]
    },
    {
      "cell_type": "code",
      "metadata": {
        "id": "AGxkOo68jVvu",
        "colab_type": "code",
        "colab": {},
        "outputId": "0078b3d2-2d0a-4f8d-8da1-74bdd1a0cfc3"
      },
      "source": [
        "df.loc[(df.month.isin([10, 11, 12])) &\n",
        "       (df.utc > dt.datetime(2015, 1, 1))]"
      ],
      "execution_count": null,
      "outputs": [
        {
          "output_type": "execute_result",
          "data": {
            "text/html": [
              "<div>\n",
              "<style scoped>\n",
              "    .dataframe tbody tr th:only-of-type {\n",
              "        vertical-align: middle;\n",
              "    }\n",
              "\n",
              "    .dataframe tbody tr th {\n",
              "        vertical-align: top;\n",
              "    }\n",
              "\n",
              "    .dataframe thead th {\n",
              "        text-align: right;\n",
              "    }\n",
              "</style>\n",
              "<table border=\"1\" class=\"dataframe\">\n",
              "  <thead>\n",
              "    <tr style=\"text-align: right;\">\n",
              "      <th></th>\n",
              "      <th>username</th>\n",
              "      <th>subreddit</th>\n",
              "      <th>utc</th>\n",
              "      <th>date</th>\n",
              "      <th>month</th>\n",
              "    </tr>\n",
              "  </thead>\n",
              "  <tbody>\n",
              "    <tr>\n",
              "      <th>0</th>\n",
              "      <td>kabanossi</td>\n",
              "      <td>photoshopbattles</td>\n",
              "      <td>2016-12-26 10:24:59</td>\n",
              "      <td>2016-12-26</td>\n",
              "      <td>12</td>\n",
              "    </tr>\n",
              "    <tr>\n",
              "      <th>1</th>\n",
              "      <td>kabanossi</td>\n",
              "      <td>GetMotivated</td>\n",
              "      <td>2016-12-26 10:23:14</td>\n",
              "      <td>2016-12-26</td>\n",
              "      <td>12</td>\n",
              "    </tr>\n",
              "    <tr>\n",
              "      <th>2</th>\n",
              "      <td>kabanossi</td>\n",
              "      <td>vmware</td>\n",
              "      <td>2016-12-26 10:21:16</td>\n",
              "      <td>2016-12-26</td>\n",
              "      <td>12</td>\n",
              "    </tr>\n",
              "    <tr>\n",
              "      <th>3</th>\n",
              "      <td>kabanossi</td>\n",
              "      <td>carporn</td>\n",
              "      <td>2016-12-26 10:20:18</td>\n",
              "      <td>2016-12-26</td>\n",
              "      <td>12</td>\n",
              "    </tr>\n",
              "    <tr>\n",
              "      <th>4</th>\n",
              "      <td>kabanossi</td>\n",
              "      <td>DIY</td>\n",
              "      <td>2016-12-26 10:17:59</td>\n",
              "      <td>2016-12-26</td>\n",
              "      <td>12</td>\n",
              "    </tr>\n",
              "    <tr>\n",
              "      <th>...</th>\n",
              "      <td>...</td>\n",
              "      <td>...</td>\n",
              "      <td>...</td>\n",
              "      <td>...</td>\n",
              "      <td>...</td>\n",
              "    </tr>\n",
              "    <tr>\n",
              "      <th>99995</th>\n",
              "      <td>ThundercuntIII</td>\n",
              "      <td>cripplingalcoholism</td>\n",
              "      <td>2016-12-23 14:56:06</td>\n",
              "      <td>2016-12-23</td>\n",
              "      <td>12</td>\n",
              "    </tr>\n",
              "    <tr>\n",
              "      <th>99996</th>\n",
              "      <td>ThundercuntIII</td>\n",
              "      <td>Advice</td>\n",
              "      <td>2016-12-23 14:55:24</td>\n",
              "      <td>2016-12-23</td>\n",
              "      <td>12</td>\n",
              "    </tr>\n",
              "    <tr>\n",
              "      <th>99997</th>\n",
              "      <td>ThundercuntIII</td>\n",
              "      <td>mildlyinteresting</td>\n",
              "      <td>2016-12-23 14:53:56</td>\n",
              "      <td>2016-12-23</td>\n",
              "      <td>12</td>\n",
              "    </tr>\n",
              "    <tr>\n",
              "      <th>99998</th>\n",
              "      <td>ThundercuntIII</td>\n",
              "      <td>cripplingalcoholism</td>\n",
              "      <td>2016-12-23 14:52:19</td>\n",
              "      <td>2016-12-23</td>\n",
              "      <td>12</td>\n",
              "    </tr>\n",
              "    <tr>\n",
              "      <th>99999</th>\n",
              "      <td>ThundercuntIII</td>\n",
              "      <td>meirl</td>\n",
              "      <td>2016-12-23 14:50:53</td>\n",
              "      <td>2016-12-23</td>\n",
              "      <td>12</td>\n",
              "    </tr>\n",
              "  </tbody>\n",
              "</table>\n",
              "<p>58076 rows × 5 columns</p>\n",
              "</div>"
            ],
            "text/plain": [
              "             username            subreddit                 utc        date  \\\n",
              "0           kabanossi     photoshopbattles 2016-12-26 10:24:59  2016-12-26   \n",
              "1           kabanossi         GetMotivated 2016-12-26 10:23:14  2016-12-26   \n",
              "2           kabanossi               vmware 2016-12-26 10:21:16  2016-12-26   \n",
              "3           kabanossi              carporn 2016-12-26 10:20:18  2016-12-26   \n",
              "4           kabanossi                  DIY 2016-12-26 10:17:59  2016-12-26   \n",
              "...               ...                  ...                 ...         ...   \n",
              "99995  ThundercuntIII  cripplingalcoholism 2016-12-23 14:56:06  2016-12-23   \n",
              "99996  ThundercuntIII               Advice 2016-12-23 14:55:24  2016-12-23   \n",
              "99997  ThundercuntIII    mildlyinteresting 2016-12-23 14:53:56  2016-12-23   \n",
              "99998  ThundercuntIII  cripplingalcoholism 2016-12-23 14:52:19  2016-12-23   \n",
              "99999  ThundercuntIII                meirl 2016-12-23 14:50:53  2016-12-23   \n",
              "\n",
              "       month  \n",
              "0         12  \n",
              "1         12  \n",
              "2         12  \n",
              "3         12  \n",
              "4         12  \n",
              "...      ...  \n",
              "99995     12  \n",
              "99996     12  \n",
              "99997     12  \n",
              "99998     12  \n",
              "99999     12  \n",
              "\n",
              "[58076 rows x 5 columns]"
            ]
          },
          "metadata": {
            "tags": []
          },
          "execution_count": 17
        }
      ]
    },
    {
      "cell_type": "markdown",
      "metadata": {
        "id": "FtGnVvU0jVvv",
        "colab_type": "text"
      },
      "source": [
        "## Group By\n",
        "\n",
        "Pandas `groupby` is a powerful to perform aggregations on pandas DataFrames. It works very similarly to the SQL `GROUP BY` clause, with the added benefit of being able to define any custom aggregation function in python.\n",
        "\n",
        "Let's start with a very simple aggregation: finding the number of comments per user.\n",
        "\n",
        "Here's the logic of the groupby:\n",
        "1. The argument of the `groupby` function (here: 'username') will be reduced to unique elements\n",
        "\n",
        "```\n",
        "df.groupby('username')\n",
        "```\n",
        "2. Then we select on which column we want to perform our aggregation. In our case, we want a count of comments, so any column will do:\n",
        "\n",
        "```\n",
        "df.groupby('username')['subreddit']\n",
        "```\n",
        "\n",
        "3. Finally, we select the aggregation method - in our case, a count:\n",
        "\n",
        "```\n",
        "df.groupby('username')['subreddit'].count()\n",
        "```\n",
        "\n",
        "In english, this reads:\n",
        "\n",
        "*For each username, let's count the number of rows.*"
      ]
    },
    {
      "cell_type": "markdown",
      "metadata": {
        "id": "5WaJ-js6jVvw",
        "colab_type": "text"
      },
      "source": [
        "WHY: To transform some existing column, or create a new column \n",
        "from an existing one\n",
        "\n",
        "HOW: Use the `.groupby` function. Here’s the basic syntax:\n",
        "\n",
        "<dataframe>.groupby(<column_to_reduce>).agg({“target_column” : “function”})\n",
        "\n",
        "\n",
        "    \n",
        "![image.png](attachment:image.png)"
      ]
    },
    {
      "cell_type": "code",
      "metadata": {
        "id": "depKShDwjVvw",
        "colab_type": "code",
        "colab": {},
        "outputId": "04169b49-34b4-4001-d1aa-42f241f3cf24"
      },
      "source": [
        "# a typical groupby operation. Here we're adding sort_values and head methods to display the results nicely\n",
        "df.groupby('username')['subreddit'].count().sort_values(ascending=False).head(10)\n"
      ],
      "execution_count": null,
      "outputs": [
        {
          "output_type": "execute_result",
          "data": {
            "text/plain": [
              "username\n",
              "Spyrothedragon9972    1000\n",
              "PumpTrump             1000\n",
              "SidDriver             1000\n",
              "bruux                 1000\n",
              "Steel_Wool_Sponge     1000\n",
              "SweelFor              1000\n",
              "TalosThoren           1000\n",
              "jackcalx              1000\n",
              "TeslaAddict           1000\n",
              "Tethalamin            1000\n",
              "Name: subreddit, dtype: int64"
            ]
          },
          "metadata": {
            "tags": []
          },
          "execution_count": 13
        }
      ]
    },
    {
      "cell_type": "markdown",
      "metadata": {
        "id": "PqSHSoL2jVvy",
        "colab_type": "text"
      },
      "source": [
        "#### Unique subreddits by username\n",
        "\n",
        "We can reuse the same syntax, just changing the aggregation method"
      ]
    },
    {
      "cell_type": "code",
      "metadata": {
        "id": "eASPMHTtjVvy",
        "colab_type": "code",
        "colab": {},
        "outputId": "ed45a10b-672e-46e7-d26d-e0c20cba57bf"
      },
      "source": [
        "# How many unique subreddits per user\n",
        "# in english: For each username, how many unique records can we find in the \"subreddit\" column\n",
        "df.groupby('username')['subreddit'].nunique().sort_values(ascending=False).head(10)\n"
      ],
      "execution_count": null,
      "outputs": [
        {
          "output_type": "execute_result",
          "data": {
            "text/plain": [
              "username\n",
              "xkcd_transcriber    496\n",
              "Exuberant_Murica    188\n",
              "kabanossi           187\n",
              "Hcfielden           182\n",
              "bigbuddha999        164\n",
              "ZoomJet             154\n",
              "fauxhb              154\n",
              "bob-leblaw          142\n",
              "gm4                 139\n",
              "not_for_porns       127\n",
              "Name: subreddit, dtype: int64"
            ]
          },
          "metadata": {
            "tags": []
          },
          "execution_count": 14
        }
      ]
    },
    {
      "cell_type": "markdown",
      "metadata": {
        "id": "nr0E0zxOjVv1",
        "colab_type": "text"
      },
      "source": [
        "## Putting it together\n",
        "\n",
        "### For each user, let's compute the number of comments per subreddit\n",
        "\n",
        "Here are the steps to be able to compute this:\n",
        "1. Get the comments and unique subreddits per username\n",
        "2. Compute the ratio\n",
        "3. Format results\n",
        "\n",
        "First step: let's get the comments and unique subreddit in one operation\n"
      ]
    },
    {
      "cell_type": "code",
      "metadata": {
        "id": "BtyjLJChjVv1",
        "colab_type": "code",
        "colab": {}
      },
      "source": [
        "df1 = df.groupby('username')[['subreddit']].count().rename(columns={'subreddit':'comments'})\n",
        "df2 = df.groupby('username')[['subreddit']].nunique().rename(columns={'subreddit':'unique_subs'})\n",
        "df3 = df1.merge(df2, left_index=True, right_index=True).head()"
      ],
      "execution_count": null,
      "outputs": []
    },
    {
      "cell_type": "code",
      "metadata": {
        "id": "f6I_3bcjjVv2",
        "colab_type": "code",
        "colab": {},
        "outputId": "5fb389ff-8581-4a52-c171-ee266936ca90"
      },
      "source": [
        "df3['comments_per_sub'] = df3['comments'] / df3['unique_subs']\n",
        "df4 = df3.sort_values(by='comments_per_sub', ascending=False)\n",
        "df4.head()"
      ],
      "execution_count": null,
      "outputs": [
        {
          "output_type": "execute_result",
          "data": {
            "text/html": [
              "<div>\n",
              "<style scoped>\n",
              "    .dataframe tbody tr th:only-of-type {\n",
              "        vertical-align: middle;\n",
              "    }\n",
              "\n",
              "    .dataframe tbody tr th {\n",
              "        vertical-align: top;\n",
              "    }\n",
              "\n",
              "    .dataframe thead th {\n",
              "        text-align: right;\n",
              "    }\n",
              "</style>\n",
              "<table border=\"1\" class=\"dataframe\">\n",
              "  <thead>\n",
              "    <tr style=\"text-align: right;\">\n",
              "      <th></th>\n",
              "      <th>comments</th>\n",
              "      <th>unique_subs</th>\n",
              "      <th>comments_per_sub</th>\n",
              "    </tr>\n",
              "    <tr>\n",
              "      <th>username</th>\n",
              "      <th></th>\n",
              "      <th></th>\n",
              "      <th></th>\n",
              "    </tr>\n",
              "  </thead>\n",
              "  <tbody>\n",
              "    <tr>\n",
              "      <th>AbulaShabula</th>\n",
              "      <td>363</td>\n",
              "      <td>33</td>\n",
              "      <td>11.000000</td>\n",
              "    </tr>\n",
              "    <tr>\n",
              "      <th>-goodguygeorge</th>\n",
              "      <td>978</td>\n",
              "      <td>106</td>\n",
              "      <td>9.226415</td>\n",
              "    </tr>\n",
              "    <tr>\n",
              "      <th>0mn17h3047</th>\n",
              "      <td>211</td>\n",
              "      <td>25</td>\n",
              "      <td>8.440000</td>\n",
              "    </tr>\n",
              "    <tr>\n",
              "      <th>01is</th>\n",
              "      <td>353</td>\n",
              "      <td>44</td>\n",
              "      <td>8.022727</td>\n",
              "    </tr>\n",
              "    <tr>\n",
              "      <th>414D59</th>\n",
              "      <td>117</td>\n",
              "      <td>17</td>\n",
              "      <td>6.882353</td>\n",
              "    </tr>\n",
              "  </tbody>\n",
              "</table>\n",
              "</div>"
            ],
            "text/plain": [
              "                comments  unique_subs  comments_per_sub\n",
              "username                                               \n",
              "AbulaShabula         363           33         11.000000\n",
              "-goodguygeorge       978          106          9.226415\n",
              "0mn17h3047           211           25          8.440000\n",
              "01is                 353           44          8.022727\n",
              "414D59               117           17          6.882353"
            ]
          },
          "metadata": {
            "tags": []
          },
          "execution_count": 27
        }
      ]
    },
    {
      "cell_type": "code",
      "metadata": {
        "id": "8ynSXa9UjVv6",
        "colab_type": "code",
        "colab": {},
        "outputId": "cae1a0aa-0ceb-496c-c0f7-0984f9f66538"
      },
      "source": [
        "# A simple example, where we select all users who've made strictly less than 1000 comments\n",
        "df4.loc[df4['comments'] != 1000].head()"
      ],
      "execution_count": null,
      "outputs": [
        {
          "output_type": "execute_result",
          "data": {
            "text/html": [
              "<div>\n",
              "<style scoped>\n",
              "    .dataframe tbody tr th:only-of-type {\n",
              "        vertical-align: middle;\n",
              "    }\n",
              "\n",
              "    .dataframe tbody tr th {\n",
              "        vertical-align: top;\n",
              "    }\n",
              "\n",
              "    .dataframe thead th {\n",
              "        text-align: right;\n",
              "    }\n",
              "</style>\n",
              "<table border=\"1\" class=\"dataframe\">\n",
              "  <thead>\n",
              "    <tr style=\"text-align: right;\">\n",
              "      <th></th>\n",
              "      <th>comments</th>\n",
              "      <th>unique_subs</th>\n",
              "      <th>comments_per_sub</th>\n",
              "    </tr>\n",
              "    <tr>\n",
              "      <th>username</th>\n",
              "      <th></th>\n",
              "      <th></th>\n",
              "      <th></th>\n",
              "    </tr>\n",
              "  </thead>\n",
              "  <tbody>\n",
              "    <tr>\n",
              "      <th>AbulaShabula</th>\n",
              "      <td>363</td>\n",
              "      <td>33</td>\n",
              "      <td>11.000000</td>\n",
              "    </tr>\n",
              "    <tr>\n",
              "      <th>-goodguygeorge</th>\n",
              "      <td>978</td>\n",
              "      <td>106</td>\n",
              "      <td>9.226415</td>\n",
              "    </tr>\n",
              "    <tr>\n",
              "      <th>0mn17h3047</th>\n",
              "      <td>211</td>\n",
              "      <td>25</td>\n",
              "      <td>8.440000</td>\n",
              "    </tr>\n",
              "    <tr>\n",
              "      <th>01is</th>\n",
              "      <td>353</td>\n",
              "      <td>44</td>\n",
              "      <td>8.022727</td>\n",
              "    </tr>\n",
              "    <tr>\n",
              "      <th>414D59</th>\n",
              "      <td>117</td>\n",
              "      <td>17</td>\n",
              "      <td>6.882353</td>\n",
              "    </tr>\n",
              "  </tbody>\n",
              "</table>\n",
              "</div>"
            ],
            "text/plain": [
              "                comments  unique_subs  comments_per_sub\n",
              "username                                               \n",
              "AbulaShabula         363           33         11.000000\n",
              "-goodguygeorge       978          106          9.226415\n",
              "0mn17h3047           211           25          8.440000\n",
              "01is                 353           44          8.022727\n",
              "414D59               117           17          6.882353"
            ]
          },
          "metadata": {
            "tags": []
          },
          "execution_count": 28
        }
      ]
    },
    {
      "cell_type": "markdown",
      "metadata": {
        "id": "oaZD9uS9jVv7",
        "colab_type": "text"
      },
      "source": [
        "### Using filtering to find active redditors\n",
        "\n",
        "Let's use filtering to identify active redditors, which we'll define as users:\n",
        "1. Not having exactly 1000 comments (this number looks artificial, let's remove it as a potential outlier)\n",
        "2. Having either :\n",
        "- Commented in at least 10 subreddits\n",
        "- At least 3 comments per subreddit\n"
      ]
    },
    {
      "cell_type": "code",
      "metadata": {
        "id": "Jivwj3NVjVv7",
        "colab_type": "code",
        "colab": {},
        "outputId": "4018a043-5b60-4e3f-dd72-7467f324dd6d"
      },
      "source": [
        "# Then we find out who are the active users in our population by using this expresion. \n",
        "# Note:\n",
        "# - the '&' signifies a lofgical AND\n",
        "# - the '|' signifies a lofgical OR\n",
        "active_redditors = df4.loc[\n",
        "                           (df4['comments'] != 1000) & \n",
        "                            # note the use of brackets to isolate the OR expression\n",
        "                           ((df4['unique_subs'] >= 10) | (df4['comments_per_sub'] >= 3))  \n",
        "                          ]\n",
        "msg = f'there are {len(active_redditors)} active redditors in our sample'\n",
        "print(msg)"
      ],
      "execution_count": null,
      "outputs": [
        {
          "output_type": "stream",
          "text": [
            "there are 5 active redditors in our sample\n"
          ],
          "name": "stdout"
        }
      ]
    },
    {
      "cell_type": "markdown",
      "metadata": {
        "id": "e19RiZUNjVv-",
        "colab_type": "text"
      },
      "source": [
        "#### Exercise 2\n",
        "\n",
        "1. Find each subreddit, find how many users have the string \"trump\" (case insensitive) in their name, and how many comments they have made\n",
        "2. What are the top 10 subreddits who have the most comments made by users with \"trump\" in their name\n",
        "3. Can you adapt the code to look for any string\n"
      ]
    },
    {
      "cell_type": "markdown",
      "metadata": {
        "id": "X-WTssx8jVv_",
        "colab_type": "text"
      },
      "source": [
        "#### Exercise 3\n",
        "\n",
        "1. Find the top 10 subreddits with the most users\n",
        "2. For active redditors, find the median number of comments, the 25th and 75th percentile of unique_subs\n",
        "3. Find the subreddit with the most comments in one hour (including the date component)\n",
        "4. Plot a timeserie of:\n",
        "    - Number of comments per day\n",
        "    - Number of comments per day, only in subreddit where at least one \"trump user\" has commented, only comments written since 01 Jan 2016\n",
        "5. [optional] Recompute the active redditors in a single expression    \n",
        "\n"
      ]
    },
    {
      "cell_type": "code",
      "metadata": {
        "id": "dPDMjnyQjVv_",
        "colab_type": "code",
        "colab": {},
        "outputId": "682b6f00-9f63-47d9-99a1-2a34e2cf2a42"
      },
      "source": [
        "## exercise code goes here\n",
        "\n",
        "## Exercise 1\n",
        "(df.groupby('subreddit')\n",
        " .agg({'username':'nunique'})\n",
        " .sort_values(by='username', ascending=False)\n",
        " .head(1)\n",
        ")"
      ],
      "execution_count": null,
      "outputs": [
        {
          "output_type": "execute_result",
          "data": {
            "text/html": [
              "<div>\n",
              "<style scoped>\n",
              "    .dataframe tbody tr th:only-of-type {\n",
              "        vertical-align: middle;\n",
              "    }\n",
              "\n",
              "    .dataframe tbody tr th {\n",
              "        vertical-align: top;\n",
              "    }\n",
              "\n",
              "    .dataframe thead th {\n",
              "        text-align: right;\n",
              "    }\n",
              "</style>\n",
              "<table border=\"1\" class=\"dataframe\">\n",
              "  <thead>\n",
              "    <tr style=\"text-align: right;\">\n",
              "      <th></th>\n",
              "      <th>username</th>\n",
              "    </tr>\n",
              "    <tr>\n",
              "      <th>subreddit</th>\n",
              "      <th></th>\n",
              "    </tr>\n",
              "  </thead>\n",
              "  <tbody>\n",
              "    <tr>\n",
              "      <th>AskReddit</th>\n",
              "      <td>141</td>\n",
              "    </tr>\n",
              "  </tbody>\n",
              "</table>\n",
              "</div>"
            ],
            "text/plain": [
              "           username\n",
              "subreddit          \n",
              "AskReddit       141"
            ]
          },
          "metadata": {
            "tags": []
          },
          "execution_count": 63
        }
      ]
    },
    {
      "cell_type": "markdown",
      "metadata": {
        "id": "hV4aP7ETjVwB",
        "colab_type": "text"
      },
      "source": [
        "# Find the subreddit with the most comments in one hour (including the date component)\n"
      ]
    },
    {
      "cell_type": "code",
      "metadata": {
        "id": "bdhZsJZEjVwB",
        "colab_type": "code",
        "colab": {}
      },
      "source": [
        "def get_short_day(elem):\n",
        "    return dt.datetime(year=elem.year, month=elem.month, day=elem.day, hour=elem.hour) \n",
        "\n",
        "df['date+hour'] = df['utc'].apply(get_short_day)"
      ],
      "execution_count": null,
      "outputs": []
    },
    {
      "cell_type": "code",
      "metadata": {
        "id": "xu39FEjXjVwC",
        "colab_type": "code",
        "colab": {},
        "outputId": "cbf44ae1-36c5-43f2-964a-61feaae341d9"
      },
      "source": [
        "df.groupby(['subreddit', 'date+hour'])['utc'].count().sort_values(ascending=False).head(10)"
      ],
      "execution_count": null,
      "outputs": [
        {
          "output_type": "execute_result",
          "data": {
            "text/plain": [
              "subreddit  date+hour          \n",
              "news       2016-12-26 15:00:00    108\n",
              "nba        2016-04-16 20:00:00     59\n",
              "           2016-04-19 03:00:00     47\n",
              "linux      2016-03-20 01:00:00     41\n",
              "FlashTV    2016-11-30 01:00:00     40\n",
              "CFB        2016-11-05 17:00:00     39\n",
              "nba        2016-04-19 04:00:00     37\n",
              "AskReddit  2016-12-25 12:00:00     37\n",
              "linux      2016-03-16 04:00:00     35\n",
              "AskReddit  2016-12-23 16:00:00     34\n",
              "Name: utc, dtype: int64"
            ]
          },
          "metadata": {
            "tags": []
          },
          "execution_count": 20
        }
      ]
    },
    {
      "cell_type": "markdown",
      "metadata": {
        "id": "qeiTxvT2jVwE",
        "colab_type": "text"
      },
      "source": [
        "# Plot a timeserie of:\n",
        "   - Number of comments per day\n",
        "   - Number of comments per day, only in subreddit where at least \n",
        "one \"trump user\" has commented, only comments written since 01 Jan 2016    "
      ]
    },
    {
      "cell_type": "markdown",
      "metadata": {
        "id": "Ve47dKvyjVwE",
        "colab_type": "text"
      },
      "source": [
        "### A basic chart"
      ]
    },
    {
      "cell_type": "code",
      "metadata": {
        "id": "oPAB_5B5jVwE",
        "colab_type": "code",
        "colab": {},
        "outputId": "63c85f7c-a0de-4fc8-aa74-07d017bca12a"
      },
      "source": [
        "import matplotlib.pyplot as plt\n",
        "%matplotlib inline\n",
        "\n",
        "(df.loc[df.date > dt.date(2015, 1, 1)]\n",
        " .groupby('date')['username'].count()\n",
        " .plot(figsize=(18, 8), title='my first chart')\n",
        ")\n"
      ],
      "execution_count": null,
      "outputs": [
        {
          "output_type": "execute_result",
          "data": {
            "text/plain": [
              "<matplotlib.axes._subplots.AxesSubplot at 0x11d08f100>"
            ]
          },
          "metadata": {
            "tags": []
          },
          "execution_count": 22
        },
        {
          "output_type": "display_data",
          "data": {
            "image/png": "[encoded data removed]",
            "text/plain": [
              "<Figure size 1296x576 with 1 Axes>"
            ]
          },
          "metadata": {
            "tags": [],
            "needs_background": "light"
          }
        }
      ]
    },
    {
      "cell_type": "markdown",
      "metadata": {
        "id": "P6-oFZzHjVwG",
        "colab_type": "text"
      },
      "source": [
        "### The same chart, but using more pre-processing"
      ]
    },
    {
      "cell_type": "code",
      "metadata": {
        "id": "sQwYjuiYjVwG",
        "colab_type": "code",
        "colab": {},
        "outputId": "5558dbcf-6537-4c31-e23c-692b99672e81"
      },
      "source": [
        "def has_token(username, token):\n",
        "    if token.lower() in username.lower():\n",
        "        return True\n",
        "\n",
        "token = 'you'\n",
        "df['has_token'] = False\n",
        "df['has_token'] = df['username'].apply(has_token, args=(token, ))\n",
        "print(f\"{len(set(df.loc[df.has_token == True, 'username']))} users have {token} in their username\")\n",
        "print('And those usernames are:\\n')\n",
        "for idx, name in enumerate(set(df.loc[df.has_token == True, 'username'])):\n",
        "    print(f\"{idx+1}- {name}\")"
      ],
      "execution_count": null,
      "outputs": [
        {
          "output_type": "stream",
          "text": [
            "4 users have you in their username\n",
            "And those usernames are:\n",
            "\n",
            "1- ICanHearYouHavingSex\n",
            "2- HeyitsmeyourOP\n",
            "3- PM-ME-YOUR-SHOULDER\n",
            "4- iamtryingtobreakyou\n"
          ],
          "name": "stdout"
        }
      ]
    },
    {
      "cell_type": "code",
      "metadata": {
        "id": "CU8MXL6IjVwI",
        "colab_type": "code",
        "colab": {}
      },
      "source": [
        "# subs_token contains all the subreddits where users with the \"token\" \n",
        "# in their usernames have left comments\n",
        "subs_token = set(df.loc[df.has_token == True, 'subreddit'])"
      ],
      "execution_count": null,
      "outputs": []
    },
    {
      "cell_type": "markdown",
      "metadata": {
        "id": "Gh5hqZSKjVwJ",
        "colab_type": "text"
      },
      "source": [
        "#### Now we can plot a timeline of the numbers of comments posted on all the subreddits\n",
        "#### where users with *token* in their name are posting"
      ]
    },
    {
      "cell_type": "code",
      "metadata": {
        "id": "6uM71WQTjVwJ",
        "colab_type": "code",
        "colab": {},
        "outputId": "c957d7f6-b483-41d9-9355-8d6e00242393"
      },
      "source": [
        "(df.loc[(df.subreddit.isin(subs_token)) & (df.date > dt.date(2016, 1, 1))]\n",
        "   .groupby('date')['username']\n",
        "   .count()\n",
        "   .sort_values(ascending=False)\n",
        "   .plot(kind='line', \n",
        "         figsize=(18,8), \n",
        "         title=f'Number of comments posted in subreddits where users with **{token}** in their names were active')\n",
        ") "
      ],
      "execution_count": null,
      "outputs": [
        {
          "output_type": "execute_result",
          "data": {
            "text/plain": [
              "<matplotlib.axes._subplots.AxesSubplot at 0x11d216e20>"
            ]
          },
          "metadata": {
            "tags": []
          },
          "execution_count": 75
        },
        {
          "output_type": "display_data",
          "data": {
            "image/png": "[encoded data removed]",
            "text/plain": [
              "<Figure size 1296x576 with 1 Axes>"
            ]
          },
          "metadata": {
            "tags": [],
            "needs_background": "light"
          }
        }
      ]
    },
    {
      "cell_type": "code",
      "metadata": {
        "id": "sKoL91k3jVwK",
        "colab_type": "code",
        "colab": {}
      },
      "source": [
        ""
      ],
      "execution_count": null,
      "outputs": []
    }
  ]
}